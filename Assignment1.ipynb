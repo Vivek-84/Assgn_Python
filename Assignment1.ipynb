{
 "cells": [
  {
   "cell_type": "markdown",
   "id": "64f72492",
   "metadata": {},
   "source": [
    "# 1. Create one variable which contains following data type"
   ]
  },
  {
   "cell_type": "markdown",
   "id": "ce84eeb8",
   "metadata": {},
   "source": [
    "String"
   ]
  },
  {
   "cell_type": "code",
   "execution_count": 1,
   "id": "4114a049",
   "metadata": {},
   "outputs": [
    {
     "data": {
      "text/plain": [
       "str"
      ]
     },
     "execution_count": 1,
     "metadata": {},
     "output_type": "execute_result"
    }
   ],
   "source": [
    "x=\"ALPH\"\n",
    "type(x)"
   ]
  },
  {
   "cell_type": "markdown",
   "id": "8f5e13a0",
   "metadata": {},
   "source": [
    "List"
   ]
  },
  {
   "cell_type": "code",
   "execution_count": 2,
   "id": "4ddbd1b8",
   "metadata": {},
   "outputs": [
    {
     "data": {
      "text/plain": [
       "list"
      ]
     },
     "execution_count": 2,
     "metadata": {},
     "output_type": "execute_result"
    }
   ],
   "source": [
    "y= [45, \"Ramesh\",True,196.48]\n",
    "type(y)"
   ]
  },
  {
   "cell_type": "code",
   "execution_count": 3,
   "id": "d4faacca",
   "metadata": {},
   "outputs": [
    {
     "data": {
      "text/plain": [
       "[45, 'Ramesh', True, 196.48]"
      ]
     },
     "execution_count": 3,
     "metadata": {},
     "output_type": "execute_result"
    }
   ],
   "source": [
    "y"
   ]
  },
  {
   "cell_type": "markdown",
   "id": "395b7e4c",
   "metadata": {},
   "source": [
    "Float\n"
   ]
  },
  {
   "cell_type": "code",
   "execution_count": 4,
   "id": "dc1e588a",
   "metadata": {},
   "outputs": [
    {
     "data": {
      "text/plain": [
       "float"
      ]
     },
     "execution_count": 4,
     "metadata": {},
     "output_type": "execute_result"
    }
   ],
   "source": [
    "float= 63.45\n",
    "type(float)"
   ]
  },
  {
   "cell_type": "markdown",
   "id": "a02ce147",
   "metadata": {},
   "source": [
    "Tuple"
   ]
  },
  {
   "cell_type": "code",
   "execution_count": 5,
   "id": "212173e5",
   "metadata": {},
   "outputs": [
    {
     "data": {
      "text/plain": [
       "'Ramesh'"
      ]
     },
     "execution_count": 5,
     "metadata": {},
     "output_type": "execute_result"
    }
   ],
   "source": [
    "b= (1,2,\"Ramesh\",[0,1,3])\n",
    "b[2]"
   ]
  },
  {
   "cell_type": "code",
   "execution_count": 6,
   "id": "f97d0a52",
   "metadata": {},
   "outputs": [
    {
     "data": {
      "text/plain": [
       "tuple"
      ]
     },
     "execution_count": 6,
     "metadata": {},
     "output_type": "execute_result"
    }
   ],
   "source": [
    "type(b)"
   ]
  },
  {
   "cell_type": "markdown",
   "id": "08097229",
   "metadata": {},
   "source": [
    "# 2. Given are some following variables containing data"
   ]
  },
  {
   "cell_type": "markdown",
   "id": "17a7cb8a",
   "metadata": {},
   "source": [
    "1"
   ]
  },
  {
   "cell_type": "code",
   "execution_count": 7,
   "id": "d4efcd2a",
   "metadata": {},
   "outputs": [
    {
     "data": {
      "text/plain": [
       "str"
      ]
     },
     "execution_count": 7,
     "metadata": {},
     "output_type": "execute_result"
    }
   ],
   "source": [
    "var1= ''\n",
    "type(var1)"
   ]
  },
  {
   "cell_type": "markdown",
   "id": "de4ed2a7",
   "metadata": {},
   "source": [
    "2"
   ]
  },
  {
   "cell_type": "code",
   "execution_count": 8,
   "id": "7a5357ee",
   "metadata": {},
   "outputs": [
    {
     "data": {
      "text/plain": [
       "str"
      ]
     },
     "execution_count": 8,
     "metadata": {},
     "output_type": "execute_result"
    }
   ],
   "source": [
    "var2 = '[DS, ML, Python]'\n",
    "type(var2)"
   ]
  },
  {
   "cell_type": "markdown",
   "id": "1b846111",
   "metadata": {},
   "source": [
    "3"
   ]
  },
  {
   "cell_type": "code",
   "execution_count": 9,
   "id": "3992dbe9",
   "metadata": {},
   "outputs": [
    {
     "data": {
      "text/plain": [
       "list"
      ]
     },
     "execution_count": 9,
     "metadata": {},
     "output_type": "execute_result"
    }
   ],
   "source": [
    "var3= ['DS','ML','Python']\n",
    "type(var3)"
   ]
  },
  {
   "cell_type": "markdown",
   "id": "88cb3ccb",
   "metadata": {},
   "source": [
    "4"
   ]
  },
  {
   "cell_type": "code",
   "execution_count": 10,
   "id": "f74f9544",
   "metadata": {},
   "outputs": [
    {
     "data": {
      "text/plain": [
       "int"
      ]
     },
     "execution_count": 10,
     "metadata": {},
     "output_type": "execute_result"
    }
   ],
   "source": [
    "var4 = 1\n",
    "type(var4)"
   ]
  },
  {
   "cell_type": "markdown",
   "id": "83a9feeb",
   "metadata": {},
   "source": [
    "# 3. Explain the use of following operators with examples"
   ]
  },
  {
   "cell_type": "markdown",
   "id": "76bba935",
   "metadata": {},
   "source": [
    "/ = Division Operator, Simply divide two numbers and output is a floating number"
   ]
  },
  {
   "cell_type": "code",
   "execution_count": 11,
   "id": "912b25fb",
   "metadata": {},
   "outputs": [
    {
     "data": {
      "text/plain": [
       "15.6"
      ]
     },
     "execution_count": 11,
     "metadata": {},
     "output_type": "execute_result"
    }
   ],
   "source": [
    "78/5"
   ]
  },
  {
   "cell_type": "markdown",
   "id": "bc2450b3",
   "metadata": {},
   "source": [
    "% = Modulas Operator, Gives Only remainder value"
   ]
  },
  {
   "cell_type": "code",
   "execution_count": 12,
   "id": "c98736a0",
   "metadata": {},
   "outputs": [
    {
     "data": {
      "text/plain": [
       "3"
      ]
     },
     "execution_count": 12,
     "metadata": {},
     "output_type": "execute_result"
    }
   ],
   "source": [
    "8 % 5"
   ]
  },
  {
   "cell_type": "markdown",
   "id": "b95ff301",
   "metadata": {},
   "source": [
    "// = Floor Division, returns largest possible integral value after division but not greater than original value"
   ]
  },
  {
   "cell_type": "code",
   "execution_count": 13,
   "id": "8b1f9420",
   "metadata": {},
   "outputs": [
    {
     "data": {
      "text/plain": [
       "1"
      ]
     },
     "execution_count": 13,
     "metadata": {},
     "output_type": "execute_result"
    }
   ],
   "source": [
    "8//5 "
   ]
  },
  {
   "cell_type": "code",
   "execution_count": 14,
   "id": "d852879f",
   "metadata": {},
   "outputs": [
    {
     "data": {
      "text/plain": [
       "1"
      ]
     },
     "execution_count": 14,
     "metadata": {},
     "output_type": "execute_result"
    }
   ],
   "source": [
    "9//5"
   ]
  },
  {
   "cell_type": "markdown",
   "id": "8a38754f",
   "metadata": {},
   "source": [
    "** = Power Operator, just like exponent in airthmetic"
   ]
  },
  {
   "cell_type": "code",
   "execution_count": 15,
   "id": "ce231a88",
   "metadata": {},
   "outputs": [
    {
     "data": {
      "text/plain": [
       "8"
      ]
     },
     "execution_count": 15,
     "metadata": {},
     "output_type": "execute_result"
    }
   ],
   "source": [
    "2**3"
   ]
  },
  {
   "cell_type": "markdown",
   "id": "7c386c11",
   "metadata": {},
   "source": [
    "# 4. Create a list of length 10 of your choice containing multiple types of data. Using for loop print the element and its data type."
   ]
  },
  {
   "cell_type": "code",
   "execution_count": 16,
   "id": "7e294666",
   "metadata": {},
   "outputs": [
    {
     "name": "stdout",
     "output_type": "stream",
     "text": [
      "45 <class 'int'>\n",
      "78.56 <class 'float'>\n",
      "Raman <class 'str'>\n",
      "True <class 'bool'>\n",
      "(1, 5, 2) <class 'tuple'>\n",
      "{'A': 1, 'B': 2} <class 'dict'>\n",
      "{1, 2} <class 'set'>\n",
      "45 <class 'str'>\n",
      "False <class 'bool'>\n",
      "32 <class 'int'>\n"
     ]
    }
   ],
   "source": [
    "l= [45,78.56,\"Raman\",True,(1,5,2),{\"A\": 1, \"B\" : 2},{1,2}, str(45), False, int(32)]\n",
    "for a in l:\n",
    "    print(a,type(a))"
   ]
  },
  {
   "cell_type": "markdown",
   "id": "48e526a1",
   "metadata": {},
   "source": [
    "# 5. Using a while loop, verify if the number A is purely divisible by number B and if so then how many times it can be divisible."
   ]
  },
  {
   "cell_type": "code",
   "execution_count": 21,
   "id": "b44fe478",
   "metadata": {},
   "outputs": [
    {
     "name": "stdout",
     "output_type": "stream",
     "text": [
      "8\n",
      "2\n",
      "4.0 1 times divisible\n",
      "2.0 2 times divisible\n",
      "1.0 3 times divisible\n",
      " Not Divisible\n"
     ]
    }
   ],
   "source": [
    "a= int(input())\n",
    "b= int(input())\n",
    "i=1\n",
    "while a % b ==0 :\n",
    "    print(a/b,i, \"times divisible\")\n",
    "    b= b+b\n",
    "    i=i+1\n",
    "else:\n",
    "    print(\" Not Divisible\")"
   ]
  },
  {
   "cell_type": "markdown",
   "id": "a3617849",
   "metadata": {},
   "source": [
    "# 6. Create a list containing 25 int type data. Using for loop and if-else condition print if the element is divisible by 3 or not.\n"
   ]
  },
  {
   "cell_type": "code",
   "execution_count": 22,
   "id": "718b58b4",
   "metadata": {},
   "outputs": [
    {
     "name": "stdout",
     "output_type": "stream",
     "text": [
      "2 Not Divisible by 3\n",
      "3 Divisible by 3\n",
      "5 Not Divisible by 3\n",
      "7 Not Divisible by 3\n",
      "14 Not Divisible by 3\n",
      "18 Divisible by 3\n",
      "9 Divisible by 3\n",
      "15 Divisible by 3\n",
      "17 Not Divisible by 3\n",
      "50 Not Divisible by 3\n",
      "98 Not Divisible by 3\n",
      "96 Divisible by 3\n",
      "23 Not Divisible by 3\n",
      "25 Not Divisible by 3\n",
      "24 Divisible by 3\n",
      "29 Not Divisible by 3\n",
      "27 Divisible by 3\n",
      "33 Divisible by 3\n",
      "52 Not Divisible by 3\n",
      "69 Divisible by 3\n",
      "67 Not Divisible by 3\n",
      "78 Divisible by 3\n",
      "25 Not Divisible by 3\n",
      "64 Not Divisible by 3\n",
      "89 Not Divisible by 3\n"
     ]
    }
   ],
   "source": [
    "l=[2,3,5,7,14,18,9,15,17,50,98,96,23,25,24,29,27,33,52,69,67,78,25,64,89]\n",
    "for a in l:\n",
    "    if a % 3 ==0:\n",
    "        print(a, \"Divisible by 3\")\n",
    "    else:\n",
    "        print(a, \"Not Divisible by 3\")\n",
    "        "
   ]
  },
  {
   "cell_type": "markdown",
   "id": "66898790",
   "metadata": {},
   "source": [
    "# What do you understand about mutable and immutable data types? Give examples for both showing this property."
   ]
  },
  {
   "cell_type": "markdown",
   "id": "05c1198f",
   "metadata": {},
   "source": [
    "Mutable Data Type = It can be change on Indexing."
   ]
  },
  {
   "cell_type": "code",
   "execution_count": 23,
   "id": "895cd2f1",
   "metadata": {},
   "outputs": [
    {
     "data": {
      "text/plain": [
       "list"
      ]
     },
     "execution_count": 23,
     "metadata": {},
     "output_type": "execute_result"
    }
   ],
   "source": [
    "l= [45,65,87]\n",
    "type(l)"
   ]
  },
  {
   "cell_type": "code",
   "execution_count": 24,
   "id": "c8094cef",
   "metadata": {},
   "outputs": [],
   "source": [
    "l[2]=0"
   ]
  },
  {
   "cell_type": "code",
   "execution_count": 25,
   "id": "eeb300a6",
   "metadata": {},
   "outputs": [
    {
     "data": {
      "text/plain": [
       "[45, 65, 0]"
      ]
     },
     "execution_count": 25,
     "metadata": {},
     "output_type": "execute_result"
    }
   ],
   "source": [
    "l"
   ]
  },
  {
   "cell_type": "markdown",
   "id": "108de998",
   "metadata": {},
   "source": [
    "Immutable Data Type= It can not on Indexing"
   ]
  },
  {
   "cell_type": "code",
   "execution_count": 26,
   "id": "76419d2f",
   "metadata": {},
   "outputs": [
    {
     "data": {
      "text/plain": [
       "str"
      ]
     },
     "execution_count": 26,
     "metadata": {},
     "output_type": "execute_result"
    }
   ],
   "source": [
    "s= \"ALPHA\"\n",
    "type(s)"
   ]
  },
  {
   "cell_type": "code",
   "execution_count": 27,
   "id": "ced7bb43",
   "metadata": {},
   "outputs": [
    {
     "data": {
      "text/plain": [
       "'A'"
      ]
     },
     "execution_count": 27,
     "metadata": {},
     "output_type": "execute_result"
    }
   ],
   "source": [
    "s[0] "
   ]
  },
  {
   "cell_type": "code",
   "execution_count": 30,
   "id": "a3bbefc1",
   "metadata": {},
   "outputs": [
    {
     "ename": "TypeError",
     "evalue": "'str' object does not support item assignment",
     "output_type": "error",
     "traceback": [
      "\u001b[1;31m---------------------------------------------------------------------------\u001b[0m",
      "\u001b[1;31mTypeError\u001b[0m                                 Traceback (most recent call last)",
      "Cell \u001b[1;32mIn [30], line 1\u001b[0m\n\u001b[1;32m----> 1\u001b[0m \u001b[43ms\u001b[49m\u001b[43m[\u001b[49m\u001b[38;5;241;43m0\u001b[39;49m\u001b[43m]\u001b[49m\u001b[38;5;241m=\u001b[39m \u001b[38;5;124m\"\u001b[39m\u001b[38;5;124mC\u001b[39m\u001b[38;5;124m\"\u001b[39m\n",
      "\u001b[1;31mTypeError\u001b[0m: 'str' object does not support item assignment"
     ]
    }
   ],
   "source": [
    "s[0]= \"C\""
   ]
  },
  {
   "cell_type": "markdown",
   "id": "77bd1d0a",
   "metadata": {},
   "source": [
    "from above S[0] =\" C \" is not possible becuuse str object does not support item assignment."
   ]
  },
  {
   "cell_type": "code",
   "execution_count": null,
   "id": "de3b9e33",
   "metadata": {},
   "outputs": [],
   "source": []
  }
 ],
 "metadata": {
  "kernelspec": {
   "display_name": "Python 3 (ipykernel)",
   "language": "python",
   "name": "python3"
  },
  "language_info": {
   "codemirror_mode": {
    "name": "ipython",
    "version": 3
   },
   "file_extension": ".py",
   "mimetype": "text/x-python",
   "name": "python",
   "nbconvert_exporter": "python",
   "pygments_lexer": "ipython3",
   "version": "3.10.6"
  }
 },
 "nbformat": 4,
 "nbformat_minor": 5
}
